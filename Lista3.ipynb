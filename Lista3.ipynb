{
  "nbformat": 4,
  "nbformat_minor": 0,
  "metadata": {
    "colab": {
      "name": "Lista 3",
      "version": "0.3.2",
      "provenance": [],
      "collapsed_sections": [],
      "include_colab_link": true
    },
    "kernelspec": {
      "name": "python3",
      "display_name": "Python 3"
    }
  },
  "cells": [
    {
      "cell_type": "markdown",
      "metadata": {
        "id": "view-in-github",
        "colab_type": "text"
      },
      "source": [
        "<a href=\"https://colab.research.google.com/github/BotenAqua/MetodyNumeryczne/blob/master/Lista3.ipynb\" target=\"_parent\"><img src=\"https://colab.research.google.com/assets/colab-badge.svg\" alt=\"Open In Colab\"/></a>"
      ]
    },
    {
      "metadata": {
        "id": "1r-XHy_19Moi",
        "colab_type": "code",
        "colab": {}
      },
      "cell_type": "code",
      "source": [
        "#1 Write a function countField which calculates the field of a given figure. It takes the following input parameters:\n",
        "# - type: circle/rectangle/triangle/rhombus\n",
        "# - x & optional y.\n",
        "# For circle we get only x which stands for radius. For Rectangle x&y are the figure's sides, for triangle they are\n",
        "# accordingly the base and the height and for rhombus - diagonals (4p)\n",
        "\n",
        "class Fig:\n",
        "  \n",
        "  def __init__(self,lista = []):\n",
        "    self.err = None\n",
        "    self.pole = None\n",
        "    self.lista = lista\n",
        "    self.validate()\n",
        "    \n",
        "    if self.err is not None: print(self.err); return\n",
        "    \n",
        "    self.type = self.lista[0].lower()\n",
        "    self.wart()\n",
        "    return\n",
        "  \n",
        "  def validate(self):\n",
        "    if len(self.lista) not in (2,3):\n",
        "      print(\"Podano nieodpowiednią ilość argumentów\")\n",
        "      self.err = \"ListErr\"\n",
        "      return\n",
        "    \n",
        "    if type(self.lista[0]) != str:\n",
        "      print(\"Typ powinien być str\")\n",
        "      self.err = \"TypeNotStrErr\"\n",
        "      return\n",
        "    \n",
        "    if self.lista[0].lower() not in (\"circle\", \"rectangle\", \"triangle\", \"rhombus\"):\n",
        "      print(\"Nieznany typ\")\n",
        "      self.err = \"UnknownTypeErr\"\n",
        "      return\n",
        "    \n",
        "    if (self.lista[0].lower() in (\"circle\")) and (len(self.lista) == 3):\n",
        "      print(\"Typ 'circle' wymaga dokładnie jednej wartości poza typem\")\n",
        "      self.err = \"CircleErr\"\n",
        "      return\n",
        "    \n",
        "    if (self.lista[0].lower() not in (\"circle\")) and (len(self.lista) == 2):\n",
        "      print(\"Podano za mało argumentów\")\n",
        "      self.err = \"ArgErr\"\n",
        "      return\n",
        "    return\n",
        "  \n",
        "  def wart(self):\n",
        "    self.x = self.lista[1]\n",
        "    if self.type not in (\"circle\"):\n",
        "      self.y = self.lista[2]\n",
        "    return\n",
        "  \n",
        "  pass\n",
        "\n",
        "\n",
        "def countField(defFig):\n",
        "  fig = Fig(defFig)\n",
        "  if fig.err is not None: return\n",
        "  \n",
        "  if fig.type in (\"circle\"):\n",
        "    return 3.1415 * (fig.x ** 2)\n",
        "  elif fig.type in(\"rectangle\"):\n",
        "    return fig.x * fig.y\n",
        "  else:\n",
        "    return fig.x * fig.y * 0.5\n",
        "  return\n",
        "\n",
        "\n",
        "\n",
        "#2 Write a function which takes sets of parameters of two figures and compares their fields. (4p)\n",
        "# The exemplary input is [[Circle, 4], [Rhombus, 2, 4]]\n",
        "# Expected output would be 'The first figure (Circle) has larger field'\n",
        "\n",
        "def compare(fig1 = [], fig2 = []):\n",
        "  pole1 = countField(fig1)\n",
        "  pole2 = countField(fig2)\n",
        "  \n",
        "  if pole1 > pole2: print(\"Pole pierwszej figury %s jest większe\" %(fig1[0]))\n",
        "  elif pole1 == pole2: print(\"Oba pola są równe\")\n",
        "  else: print(\"pole drugiej figury %s jest większe\" %(fig2[0]))\n",
        "  \n",
        "  \n",
        "  return"
      ],
      "execution_count": 0,
      "outputs": []
    },
    {
      "metadata": {
        "id": "5zkLYoYvC7r0",
        "colab_type": "code",
        "outputId": "7f29a7af-949f-47e8-b660-fe643a17e7d3",
        "colab": {
          "base_uri": "https://localhost:8080/",
          "height": 34
        }
      },
      "cell_type": "code",
      "source": [
        "countField([\"rectangle\", 4,6])\n",
        "\n",
        "compare([\"circle\", 0], [\"triangle\", 4,0])"
      ],
      "execution_count": 134,
      "outputs": [
        {
          "output_type": "stream",
          "text": [
            "Oba pola są równe\n"
          ],
          "name": "stdout"
        }
      ]
    }
  ]
}