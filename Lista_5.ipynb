{
  "nbformat": 4,
  "nbformat_minor": 0,
  "metadata": {
    "colab": {
      "name": "Lista 5",
      "version": "0.3.2",
      "provenance": [],
      "collapsed_sections": [],
      "include_colab_link": true
    },
    "kernelspec": {
      "name": "python3",
      "display_name": "Python 3"
    }
  },
  "cells": [
    {
      "cell_type": "markdown",
      "metadata": {
        "id": "view-in-github",
        "colab_type": "text"
      },
      "source": [
        "<a href=\"https://colab.research.google.com/github/BotenAqua/MetodyNumeryczne/blob/master/Lista_5.ipynb\" target=\"_parent\"><img src=\"https://colab.research.google.com/assets/colab-badge.svg\" alt=\"Open In Colab\"/></a>"
      ]
    },
    {
      "cell_type": "code",
      "metadata": {
        "id": "Ke1GsGUAlR4J",
        "colab_type": "code",
        "outputId": "81684b73-4469-4df9-da81-440c4193f314",
        "colab": {
          "base_uri": "https://localhost:8080/",
          "height": 68
        }
      },
      "source": [
        "#TASKS (11p)\n",
        "#To use the requests library you have to install it first. If you have pip and you're using python3 interpreter in your project\n",
        "# then simply pip3 install requests\n",
        "\n",
        "# 1 Find another public API with cryptocurrency and compare prices. As an output print:\n",
        "# \"Currently the XXX exchange market is better for buying whilst YYY is better for selling\" (3p)\n",
        "import requests\n",
        "\n",
        "KursCebuliona = 3.83273926\n",
        "\n",
        "response = requests.get(\"https://bitbay.net/API/Public/BTCPLN/ticker.json\")\n",
        "data = response.json()\n",
        "bid1=data['bid']\n",
        "ask1=data['ask']\n",
        "print('bid:',bid1,'ask:',ask1)\n",
        "\n",
        "response2 = requests.get(\"https://www.bitstamp.net/api/ticker/\")\n",
        "data = response2.json()\n",
        "bid2=float(data['bid'])\n",
        "ask2=float(data['ask'])\n",
        "print('bid:',bid2 * KursCebuliona,'ask:',ask2 * KursCebuliona)\n",
        "\n",
        "if bid1 >= bid2:    #bid - kwota ktora ktos jest w stanie dac\n",
        "  BestBidMarket = \"bitbay.net\"\n",
        "else:\n",
        "  BestBidMarket = \"bitstamp.net\"\n",
        "\n",
        "if ask1 <= ask2:\n",
        "  BestAskMarket = \"bitbay.net\"\n",
        "else:\n",
        "  BestAskMarket = \"bitstamp.net\"\n",
        "\n",
        "print(\"Currently the \", BestAskMarket, \" exchange market is better for buying whilst \", BestBidMarket, \" is better for selling\")\n",
        "\n"
      ],
      "execution_count": 0,
      "outputs": [
        {
          "output_type": "stream",
          "text": [
            "bid: 30600.9 ask: 30605.23\n",
            "bid: 30342.493590071597 ask: 30349.737467273\n",
            "Currently the  bitstamp.net  exchange market is better for buying whilst  bitbay.net  is better for selling\n"
          ],
          "name": "stdout"
        }
      ]
    },
    {
      "cell_type": "code",
      "metadata": {
        "id": "SxMsWAolq9fk",
        "colab_type": "code",
        "colab": {}
      },
      "source": [
        "# 2 Use https://randomuser.me API to download a random user data.\n",
        "# Create and store 100 random users with ids, username, name (first + last name) using this API (2p)\n",
        "\n",
        "response = requests.get(\"https://randomuser.me/api/?results=100\")\n",
        "rawdata = response.json()"
      ],
      "execution_count": 0,
      "outputs": []
    },
    {
      "cell_type": "code",
      "metadata": {
        "id": "LVe7ux8eMJ7n",
        "colab_type": "code",
        "outputId": "87f75c91-746a-48c3-e051-7af2cead681f",
        "colab": {
          "base_uri": "https://localhost:8080/",
          "height": 54
        }
      },
      "source": [
        "import numpy as np\n",
        "dane = rawdata[\"results\"]\n",
        "#print(dane[0])\n",
        "\n",
        "RdyData = []\n",
        "for i in range(len(dane)):\n",
        "  RdyData.append([i+1, dane[i][\"email\"], dane[i][\"name\"][\"first\"] + dane[i][\"name\"][\"last\"], abs(np.random.randn() * 5), abs(np.random.randn() * 5 * bid1)])\n",
        "print(RdyData)"
      ],
      "execution_count": 0,
      "outputs": [
        {
          "output_type": "stream",
          "text": [
            "[[1, 'hilla.kilpela@example.com', 'hillakilpela', 5.447756258396864, 80704.75654881932], [2, 'bertha.edwards@example.com', 'berthaedwards', 3.4368317814842673, 36367.50347261536], [3, 'ben.dybdahl@example.com', 'bendybdahl', 0.17015905966605874, 124572.48713946757], [4, 'cory.daniels@example.com', 'corydaniels', 3.957915157904346, 152095.87190153258], [5, 'katherine.allen@example.com', 'katherineallen', 1.7686677227405425, 79865.39424019205], [6, 'julia.fitzpatrick@example.com', 'juliafitzpatrick', 2.1824265388143798, 92390.46447995928], [7, 'محیا.کریمی@example.com', 'محیاکریمی', 0.049340752317529664, 13519.683969703017], [8, 'cäcilie.gundlach@example.com', 'cäciliegundlach', 4.929317155104536, 148416.61018513457], [9, 'کیمیا.حسینی@example.com', 'کیمیاحسینی', 4.697151989535861, 223798.71331714303], [10, 'viivi.halko@example.com', 'viivihalko', 3.449578990841202, 232879.47597280133], [11, 'liliosa.gomes@example.com', 'liliosagomes', 6.8128354355350895, 293345.47839479736], [12, 'luca.chen@example.com', 'lucachen', 0.43620432871695214, 18561.746110389762], [13, 'bryan.morgan@example.com', 'bryanmorgan', 2.219718511159701, 73905.00158625538], [14, 'donald.holt@example.com', 'donaldholt', 0.5384733252145532, 119547.88408224781], [15, 'sofie.haglund@example.com', 'sofiehaglund', 2.4614661518192706, 41583.51189985843], [16, 'juliette.mathieu@example.com', 'juliettemathieu', 1.1313454190195962, 70378.92456306121], [17, 'milton.almeida@example.com', 'miltonalmeida', 4.127029881145242, 41035.11204092706], [18, 'هلیا.نجاتی@example.com', 'هلیانجاتی', 0.7845431434494368, 26494.65812733977], [19, 'ava.bélanger@example.com', 'avabélanger', 7.749819499424229, 163059.75278486428], [20, 'maria.nielsen@example.com', 'marianielsen', 2.0376995543958887, 107448.84013794136], [21, 'jonas.strøm@example.com', 'jonasstrøm', 0.06330560511282918, 71918.45078176084], [22, 'gül.tahincioğlu@example.com', 'gültahincioğlu', 0.1375168644753905, 36294.930336903904], [23, 'britta.jungmann@example.com', 'brittajungmann', 4.0794571989527615, 47415.300892720465], [24, 'veera.kauppi@example.com', 'veerakauppi', 8.83577711393374, 196909.61653572327], [25, 'laércio.rocha@example.com', 'laérciorocha', 2.744675989107053, 205389.09015313786], [26, 'eva.campos@example.com', 'evacampos', 2.514077283054239, 26439.776390093648], [27, 'donna.hale@example.com', 'donnahale', 2.492349203196605, 50336.97177286325], [28, 'vincent.fournier@example.com', 'vincentfournier', 7.289062934024239, 363808.5025339273], [29, 'ava.bélanger@example.com', 'avabélanger', 1.5673032678750312, 189408.76495217741], [30, 'alexis.pelletier@example.com', 'alexispelletier', 7.734317619400503, 205757.9673148217], [31, 'oliver.jensen@example.com', 'oliverjensen', 3.094916341218457, 103528.18255330522], [32, 'alix.durand@example.com', 'alixdurand', 7.594855618559466, 330287.6423942129], [33, 'brent.hill@example.com', 'brenthill', 2.476118222620798, 163902.39409912], [34, 'ellen.richards@example.com', 'ellenrichards', 2.373095320895071, 239740.00785723815], [35, 'balduíno.costa@example.com', 'balduínocosta', 5.361215784134821, 97859.19011988929], [36, 'hanna.rückert@example.com', 'hannarückert', 3.6630639433676575, 163429.75384526845], [37, 'benedicte.hoem@example.com', 'benedictehoem', 6.470985130019281, 261388.4693138657], [38, 'rosângela.pereira@example.com', 'rosângelapereira', 5.696580276819128, 34867.81495781998], [39, 'emily.perry@example.com', 'emilyperry', 6.164398514243658, 64404.325121601214], [40, 'paul.howell@example.com', 'paulhowell', 8.11509449847698, 95610.12746060923], [41, 'emma.anttila@example.com', 'emmaanttila', 8.186848186861086, 180381.7995157196], [42, 'eren.kutlay@example.com', 'erenkutlay', 5.077779267481902, 188336.4841135119], [43, 'ali.karaer@example.com', 'alikaraer', 10.269979130958799, 158590.75882489426], [44, 'nathan.li@example.com', 'nathanli', 3.9612549577369505, 122225.21126157325], [45, 'jesus.marquez@example.com', 'jesusmarquez', 3.2429492670049376, 40393.458400652446], [46, 'simon.chu@example.com', 'simonchu', 2.442684727802355, 102497.12384129735], [47, 'joaquin.garcia@example.com', 'joaquingarcia', 5.998226801880531, 25798.35744177824], [48, 'امیر.موسوی@example.com', 'امیرموسوی', 8.150128766685544, 43654.19505248031], [49, 'emrik.brodahl@example.com', 'emrikbrodahl', 0.5682151118749859, 144464.73084201023], [50, 'ülkü.akal@example.com', 'ülküakal', 8.140652990733674, 64589.96831938555], [51, 'purificacion.campos@example.com', 'purificacioncampos', 0.974042109532811, 63116.02214515272], [52, 'balbino.porto@example.com', 'balbinoporto', 1.9752821923487782, 144068.62419796598], [53, 'amira.robin@example.com', 'amirarobin', 0.591146685268562, 156723.36459557133], [54, 'romé.kuster@example.com', 'romékuster', 0.13145445347178758, 37157.286798979745], [55, 'malou.christensen@example.com', 'malouchristensen', 9.751893685448167, 26309.67333012304], [56, 'bastien.durand@example.com', 'bastiendurand', 1.0815779442900417, 91193.37231634378], [57, 'norah.marie@example.com', 'norahmarie', 3.2561562145270813, 108416.41155792633], [58, 'piper.brown@example.com', 'piperbrown', 9.107819525038641, 279583.214635624], [59, 'jamie.flores@example.com', 'jamieflores', 6.20892439217449, 140559.77007253372], [60, 'anadir.aragão@example.com', 'anadiraragão', 2.5384417954108245, 23427.68802299273], [61, 'gül.özberk@example.com', 'gülözberk', 4.311413151603481, 302879.0852597609], [62, 'michael.smith@example.com', 'michaelsmith', 6.418572341086596, 67868.03619357641], [63, 'mirco.barbier@example.com', 'mircobarbier', 1.0557925896389841, 59148.93422201783], [64, 'tobias.olsen@example.com', 'tobiasolsen', 3.6847080762039903, 179386.05471574675], [65, 'martha.owens@example.com', 'marthaowens', 4.299127245464065, 135089.7465656661], [66, 'eléna.schmitt@example.com', 'elénaschmitt', 3.2936462908208552, 365902.3443485056], [67, 'nina.davidson@example.com', 'ninadavidson', 0.9866523425248832, 154529.90843010036], [68, 'linea.olafsen@example.com', 'lineaolafsen', 4.760183293928297, 6175.361229731588], [69, 'eduardo.esteban@example.com', 'eduardoesteban', 4.670446360862558, 71974.89202746688], [70, 'glen.lawrence@example.com', 'glenlawrence', 1.6640289232699272, 43106.538462856995], [71, 'siiri.lammi@example.com', 'siirilammi', 3.119983768782964, 27738.67669998488], [72, 'زهرا.نكونظر@example.com', 'زهرانكو نظر', 1.1483912536904903, 130944.28036944824], [73, 'pablo.peña@example.com', 'pablopeña', 0.86387259335011, 14173.189572946743], [74, 'same.wallace@example.com', 'samewallace', 1.674828843289673, 239517.54273860474], [75, 'matias.oja@example.com', 'matiasoja', 9.705462456743335, 38078.224122645915], [76, 'julia.keranen@example.com', 'juliakeranen', 6.311357784164205, 46475.473316304655], [77, 'دانیال.کوتی@example.com', 'دانیالکوتی', 7.324965469854876, 87081.78158694046], [78, 'مهرسا.گلشن@example.com', 'مهرساگلشن', 4.5464512128381935, 63063.59600927785], [79, 'julie.olsen@example.com', 'julieolsen', 7.103562404884359, 271109.6694634572], [80, 'alexis.cruz@example.com', 'alexiscruz', 0.4530099830070575, 190524.54711437307], [81, 'bessie.crawford@example.com', 'bessiecrawford', 1.5573158661449962, 84788.1969039848], [82, 'kristina.morales@example.com', 'kristinamorales', 0.3433084280995071, 401500.8854652838], [83, 'javier.ramos@example.com', 'javierramos', 2.673482226138587, 243800.80459339687], [84, 'abby.mckinney@example.com', 'abbymckinney', 7.754057842004988, 81681.69588475135], [85, 'sélène.laurent@example.com', 'sélènelaurent', 4.720353624518385, 17453.555698745455], [86, 'ewald.pfister@example.com', 'ewaldpfister', 0.36561910989799445, 23306.313270526818], [87, 'malik.lavoie@example.com', 'maliklavoie', 3.3852337669423447, 61644.35435781446], [88, 'ciro.sales@example.com', 'cirosales', 3.283227824544375, 228206.18011209744], [89, 'enrique.young@example.com', 'enriqueyoung', 2.1328269272844635, 47392.44932811585], [90, 'shawn.vanderzwaard@example.com', 'shawnvan der zwaard', 8.887774552612921, 39366.20856536971], [91, 'reimar.laux@example.com', 'reimarlaux', 7.1050644392433195, 218304.08564588297], [92, 'dylan.ramos@example.com', 'dylanramos', 0.9587165016198663, 248953.71126542735], [93, 'selene.kwint@example.com', 'selenekwint', 0.7698775452141156, 48136.50742419505], [94, 'malthe.jørgensen@example.com', 'malthejørgensen', 0.9466350403669777, 68545.01663349003], [95, 'یاسمین.جعفری@example.com', 'یاسمینجعفری', 3.597571399293547, 248580.16522006827], [96, 'محمدپارسا.رضاییان@example.com', 'محمدپارسارضاییان', 1.5004019174425278, 261100.27831446697], [97, 'latife.ekici@example.com', 'latifeekici', 3.188690515185261, 158358.9352910885], [98, 'cliff.zondervan@example.com', 'cliffzondervan', 6.420526411209307, 186765.88908440905], [99, 'eline.fonn@example.com', 'elinefonn', 4.274840042733274, 47359.80810041472], [100, 'آدرینا.نكونظر@example.com', 'آدرینانكو نظر', 1.1524076921958584, 44108.96254470484]]\n"
          ],
          "name": "stdout"
        }
      ]
    },
    {
      "cell_type": "code",
      "metadata": {
        "id": "Lvt0MpCprHkn",
        "colab_type": "code",
        "outputId": "50f26bcc-0c19-4f15-fb8d-6a3796cc5b2c",
        "colab": {
          "base_uri": "https://localhost:8080/",
          "height": 1156
        }
      },
      "source": [
        "# 3 Prepare a simulation of transactions between these users\n",
        "# Take random user and pair him/her with another one. Assume a random amount but take real world price. Sum up the transaction printing:\n",
        "# username1 exchanged X.XXX BTC with username2 for PLN YYYYY.YYY PLN. (2p)\n",
        "# Simulate real time - do not proceed all transactions at once. Try to make around 100 transactions per minute (2p)\n",
        "# Simulate user's assets. Creating a user assign random amount of a given currency. Take it into account while performing a transaction.\n",
        "# Remember to amend user's assets after the transaction. (2p)\n",
        "import time\n",
        "import numpy as np\n",
        "\n",
        "\n",
        "\n",
        "def aquarand():\n",
        "  return abs(np.random.randn() * tepo)\n",
        "\n",
        "def bitrand():\n",
        "  return abs(np.random.randn() * 5)\n",
        "\n",
        "def cebula():\n",
        "  return np.random.randint(10,5000) + np.random.randn()\n",
        "\n",
        "def trade(buyer, seller):\n",
        "  cena = np.random.choice((bid1, ask1))\n",
        "  ileBit = bitrand()\n",
        "  if ileBit > seller[3]: ileBit = seller[3]\n",
        "  if ileBit > buyer[4] * cena: ilebit = buyer[4] * cena\n",
        "  if ileBit == 0: return\n",
        "  \n",
        "  buyer[3] += ileBit\n",
        "  buyer[4] -= ileBit * cena\n",
        "  seller[3] -= ileBit\n",
        "  seller[4] += ileBit * cena\n",
        "  \n",
        "  print(\"%s exchanged %f BTC with %s for PLN %f PLN\" %(buyer[2], ileBit, buyer[2], ileBit * cena))\n",
        "  return\n",
        "\n",
        "cena = bid1\n",
        "\n",
        "ile = 100\n",
        "tepo = 0.6 #mniej = szybciej\n",
        "\n",
        "for i in range(ile):\n",
        "  rand = (np.random.randint(0,len(RdyData)),np.random.randint(0,len(RdyData)))\n",
        "  while rand[0] == rand[1]:\n",
        "    rand = (rand[0], np.random.randint(0,np.random.randint(0,len(RdyData))))\n",
        "  \n",
        "  usr1 = RdyData[rand[0]]\n",
        "  usr2 = RdyData[rand[1]]\n",
        "  #ileBit = bitrand()\n",
        "  \n",
        "  trade(usr1,usr2)\n",
        "  time.sleep(aquarand())"
      ],
      "execution_count": 0,
      "outputs": [
        {
          "output_type": "stream",
          "text": [
            "norahmarie exchanged 0.403717 BTC with norahmarie for PLN 12354.104771 PLN\n",
            "juliafitzpatrick exchanged 1.219617 BTC with juliafitzpatrick for PLN 37321.388641 PLN\n",
            "michaelsmith exchanged 3.643004 BTC with michaelsmith for PLN 111479.189607 PLN\n",
            "gültahincioğlu exchanged 0.378013 BTC with gültahincioğlu for PLN 11567.531700 PLN\n",
            "elénaschmitt exchanged 2.268981 BTC with elénaschmitt for PLN 69442.670912 PLN\n",
            "katherineallen exchanged 3.871460 BTC with katherineallen for PLN 118486.913649 PLN\n",
            "زهرانكو نظر exchanged 2.961862 BTC with زهرانكو نظر for PLN 90635.652631 PLN\n",
            "siirilammi exchanged 4.949890 BTC with siirilammi for PLN 151471.085406 PLN\n",
            "marianielsen exchanged 2.843928 BTC with marianielsen for PLN 87039.069079 PLN\n",
            "jonasstrøm exchanged 2.961862 BTC with jonasstrøm for PLN 90648.477495 PLN\n",
            "bessiecrawford exchanged 2.346460 BTC with bessiecrawford for PLN 71813.960520 PLN\n",
            "cirosales exchanged 1.270010 BTC with cirosales for PLN 38868.947803 PLN\n",
            "anadiraragão exchanged 2.328576 BTC with anadiraragão for PLN 71266.615039 PLN\n",
            "امیرموسوی exchanged 2.339032 BTC with امیرموسوی for PLN 71576.490512 PLN\n",
            "gültahincioğlu exchanged 2.132283 BTC with gültahincioğlu for PLN 65259.017454 PLN\n",
            "emmaanttila exchanged 10.465432 BTC with emmaanttila for PLN 320296.949073 PLN\n",
            "malouchristensen exchanged 0.347543 BTC with malouchristensen for PLN 10635.133777 PLN\n",
            "gültahincioğlu exchanged 3.431073 BTC with gültahincioğlu for PLN 105008.768752 PLN\n",
            "hannarückert exchanged 5.113809 BTC with hannarückert for PLN 156509.288366 PLN\n",
            "cliffzondervan exchanged 0.515697 BTC with cliffzondervan for PLN 15783.040341 PLN\n",
            "donaldholt exchanged 2.015552 BTC with donaldholt for PLN 61686.443534 PLN\n",
            "eduardoesteban exchanged 1.181834 BTC with eduardoesteban for PLN 36170.301226 PLN\n",
            "pablopeña exchanged 6.870073 BTC with pablopeña for PLN 210230.423191 PLN\n",
            "liliosagomes exchanged 1.366675 BTC with liliosagomes for PLN 41821.474467 PLN\n",
            "alikaraer exchanged 1.166259 BTC with alikaraer for PLN 35688.585702 PLN\n",
            "cliffzondervan exchanged 7.200924 BTC with cliffzondervan for PLN 220385.937051 PLN\n",
            "javierramos exchanged 8.445363 BTC with javierramos for PLN 258472.290703 PLN\n",
            "balduínocosta exchanged 0.742194 BTC with balduínocosta for PLN 22715.004790 PLN\n",
            "محیاکریمی exchanged 1.333124 BTC with محیاکریمی for PLN 40794.794730 PLN\n",
            "piperbrown exchanged 0.294390 BTC with piperbrown for PLN 9008.600831 PLN\n",
            "ninadavidson exchanged 2.462685 BTC with ninadavidson for PLN 75371.032150 PLN\n",
            "erenkutlay exchanged 1.986022 BTC with erenkutlay for PLN 60782.661441 PLN\n",
            "romékuster exchanged 2.898147 BTC with romékuster for PLN 88698.458213 PLN\n",
            "jesusmarquez exchanged 1.668007 BTC with jesusmarquez for PLN 51042.524919 PLN\n",
            "emilyperry exchanged 0.729213 BTC with emilyperry for PLN 22314.582582 PLN\n",
            "javierramos exchanged 4.303379 BTC with javierramos for PLN 131687.255256 PLN\n",
            "norahmarie exchanged 10.918060 BTC with norahmarie for PLN 334102.471331 PLN\n",
            "viivihalko exchanged 2.822085 BTC with viivihalko for PLN 86358.353947 PLN\n",
            "dylanramos exchanged 1.166259 BTC with dylanramos for PLN 35693.635605 PLN\n",
            "berthaedwards exchanged 9.306307 BTC with berthaedwards for PLN 284781.372618 PLN\n",
            "malthejørgensen exchanged 0.665937 BTC with malthejørgensen for PLN 20378.279573 PLN\n",
            "gülözberk exchanged 2.472345 BTC with gülözberk for PLN 75655.996661 PLN\n",
            "piperbrown exchanged 0.058474 BTC with piperbrown for PLN 1789.613751 PLN\n",
            "paulhowell exchanged 4.589573 BTC with paulhowell for PLN 140464.948381 PLN\n",
            "julieolsen exchanged 0.257718 BTC with julieolsen for PLN 7887.531726 PLN\n",
            "alikaraer exchanged 7.572914 BTC with alikaraer for PLN 231737.976998 PLN\n",
            "vincentfournier exchanged 2.349343 BTC with vincentfournier for PLN 71902.194033 PLN\n",
            "ninadavidson exchanged 6.855617 BTC with ninadavidson for PLN 209788.061242 PLN\n",
            "anadiraragão exchanged 1.044662 BTC with anadiraragão for PLN 31972.111828 PLN\n",
            "jesusmarquez exchanged 0.138029 BTC with jesusmarquez for PLN 4224.420054 PLN\n",
            "gültahincioğlu exchanged 1.046606 BTC with gültahincioğlu for PLN 32027.082784 PLN\n",
            "avabélanger exchanged 0.042833 BTC with avabélanger for PLN 1310.733970 PLN\n",
            "juliakeranen exchanged 1.901150 BTC with juliakeranen for PLN 58176.910772 PLN\n",
            "donnahale exchanged 0.999245 BTC with donnahale for PLN 30577.797359 PLN\n",
            "corydaniels exchanged 6.282289 BTC with corydaniels for PLN 192243.689274 PLN\n",
            "hannarückert exchanged 0.682966 BTC with hannarückert for PLN 20899.387909 PLN\n",
            "vincentfournier exchanged 0.894456 BTC with vincentfournier for PLN 27371.162962 PLN\n",
            "دانیالکوتی exchanged 3.281631 BTC with دانیالکوتی for PLN 100420.864051 PLN\n",
            "alexiscruz exchanged 1.960254 BTC with alexiscruz for PLN 59994.014303 PLN\n",
            "emrikbrodahl exchanged 0.159614 BTC with emrikbrodahl for PLN 4885.009143 PLN\n",
            "kristinamorales exchanged 1.181834 BTC with kristinamorales for PLN 36165.183885 PLN\n",
            "avabélanger exchanged 0.763383 BTC with avabélanger for PLN 23363.505219 PLN\n",
            "bendybdahl exchanged 0.573092 BTC with bendybdahl for PLN 17537.141084 PLN\n",
            "sélènelaurent exchanged 0.573092 BTC with sélènelaurent for PLN 17537.141084 PLN\n",
            "siirilammi exchanged 0.620823 BTC with siirilammi for PLN 19000.443051 PLN\n",
            "brittajungmann exchanged 0.763383 BTC with brittajungmann for PLN 23360.199771 PLN\n",
            "jonasstrøm exchanged 2.031828 BTC with jonasstrøm for PLN 62184.559811 PLN\n"
          ],
          "name": "stdout"
        }
      ]
    }
  ]
}