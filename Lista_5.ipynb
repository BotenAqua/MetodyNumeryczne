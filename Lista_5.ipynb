{
  "nbformat": 4,
  "nbformat_minor": 0,
  "metadata": {
    "colab": {
      "name": "Lista 5",
      "version": "0.3.2",
      "provenance": [],
      "collapsed_sections": [],
      "include_colab_link": true
    },
    "kernelspec": {
      "name": "python3",
      "display_name": "Python 3"
    }
  },
  "cells": [
    {
      "cell_type": "markdown",
      "metadata": {
        "id": "view-in-github",
        "colab_type": "text"
      },
      "source": [
        "<a href=\"https://colab.research.google.com/github/BotenAqua/MetodyNumeryczne/blob/master/Lista_5.ipynb\" target=\"_parent\"><img src=\"https://colab.research.google.com/assets/colab-badge.svg\" alt=\"Open In Colab\"/></a>"
      ]
    },
    {
      "cell_type": "code",
      "metadata": {
        "id": "Ke1GsGUAlR4J",
        "colab_type": "code",
        "outputId": "fcda8140-2158-4532-ef77-14a6ee872316",
        "colab": {
          "base_uri": "https://localhost:8080/",
          "height": 68
        }
      },
      "source": [
        "#TASKS (11p)\n",
        "#To use the requests library you have to install it first. If you have pip and you're using python3 interpreter in your project\n",
        "# then simply pip3 install requests\n",
        "\n",
        "# 1 Find another public API with cryptocurrency and compare prices. As an output print:\n",
        "# \"Currently the XXX exchange market is better for buying whilst YYY is better for selling\" (3p)\n",
        "import requests\n",
        "\n",
        "KursCebuliona = 3.83273926\n",
        "\n",
        "response = requests.get(\"https://bitbay.net/API/Public/BTCPLN/ticker.json\")\n",
        "data = response.json()\n",
        "bid1=data['bid']\n",
        "ask1=data['ask']\n",
        "print('bid:',bid1,'ask:',ask1)\n",
        "\n",
        "response2 = requests.get(\"https://www.bitstamp.net/api/ticker/\")\n",
        "data = response2.json()\n",
        "bid2=float(data['bid'])\n",
        "ask2=float(data['ask'])\n",
        "print('bid:',bid2 * KursCebuliona,'ask:',ask2 * KursCebuliona)\n",
        "\n",
        "if bid1 >= bid2:    #bid - kwota ktora ktos jest w stanie dac\n",
        "  BestBidMarket = \"bitbay.net\"\n",
        "else:\n",
        "  BestBidMarket = \"bitstamp.net\"\n",
        "\n",
        "if ask1 <= ask2:\n",
        "  BestAskMarket = \"bitbay.net\"\n",
        "else:\n",
        "  BestAskMarket = \"bitstamp.net\"\n",
        "\n",
        "print(\"Currently the \", BestAskMarket, \" exchange market is better for buying whilst \", BestBidMarket, \" is better for selling\")\n",
        "\n"
      ],
      "execution_count": 0,
      "outputs": [
        {
          "output_type": "stream",
          "text": [
            "bid: 30650 ask: 30672.91\n",
            "bid: 30362.9987451126 ask: 30386.3017998134\n",
            "Currently the  bitstamp.net  exchange market is better for buying whilst  bitbay.net  is better for selling\n"
          ],
          "name": "stdout"
        }
      ]
    },
    {
      "cell_type": "code",
      "metadata": {
        "id": "SxMsWAolq9fk",
        "colab_type": "code",
        "colab": {}
      },
      "source": [
        "# 2 Use https://randomuser.me API to download a random user data.\n",
        "# Create and store 100 random users with ids, username, name (first + last name) using this API (2p)\n",
        "\n",
        "response = requests.get(\"https://randomuser.me/api/?results=100\")\n",
        "rawdata = response.json()"
      ],
      "execution_count": 0,
      "outputs": []
    },
    {
      "cell_type": "code",
      "metadata": {
        "id": "LVe7ux8eMJ7n",
        "colab_type": "code",
        "outputId": "600d700e-c7e8-4908-a2df-ecbabfbfab96",
        "colab": {
          "base_uri": "https://localhost:8080/",
          "height": 54
        }
      },
      "source": [
        "import numpy as np\n",
        "dane = rawdata[\"results\"]\n",
        "#print(dane[0])\n",
        "\n",
        "RdyData = []\n",
        "for i in range(len(dane)):\n",
        "  RdyData.append([i+1, dane[i][\"email\"], dane[i][\"name\"][\"first\"] + \" \" + dane[i][\"name\"][\"last\"], abs(np.random.randn() * 5), abs(np.random.randn() * 5 * bid1)])\n",
        "print(RdyData)"
      ],
      "execution_count": 0,
      "outputs": [
        {
          "output_type": "stream",
          "text": [
            "[[1, 'pablo.dominguez@example.com', 'pablo dominguez', 2.1082709446451764, 46821.89149079528], [2, 'corina.fontai@example.com', 'corina fontai', 1.2711373665517227, 46355.53640902889], [3, 'lumi.wuori@example.com', 'lumi wuori', 1.3568540107188936, 87445.3630167843], [4, 'carmen.adams@example.com', 'carmen adams', 2.8261700715668288, 204173.60272811993], [5, 'lotta.veland@example.com', 'lotta veland', 3.565922494874827, 86932.83962319988], [6, 'elmer.edwards@example.com', 'elmer edwards', 2.190463643101859, 142578.85526438805], [7, 'bryan.marchand@example.com', 'bryan marchand', 6.446249123343265, 63745.67016777886], [8, 'edith.fields@example.com', 'edith fields', 0.8230604353241118, 286973.08719001716], [9, 'noa.fontai@example.com', 'noa fontai', 4.421275382820942, 325321.4024913469], [10, 'oğuzhan.topaloğlu@example.com', 'oğuzhan topaloğlu', 9.85130463541185, 47821.91820520248], [11, 'cleusa.lopes@example.com', 'cleusa lopes', 0.07845396560438175, 105907.84306197612], [12, 'anton.remes@example.com', 'anton remes', 1.8142814143134391, 103224.86300381513], [13, 'volkan.karaböcek@example.com', 'volkan karaböcek', 4.632766980414459, 53075.96462343138], [14, 'mia.jean-baptiste@example.com', 'mia jean-baptiste', 1.0587259109259033, 231034.7746195514], [15, 'gonzalo.arias@example.com', 'gonzalo arias', 5.6508773511399895, 137752.87958531876], [16, 'veli.sperber@example.com', 'veli sperber', 5.874789022670328, 293278.36635507306], [17, 'chad.harvey@example.com', 'chad harvey', 0.3557237044757715, 125065.73698051814], [18, 'celine.dumont@example.com', 'celine dumont', 13.064267951900606, 209857.20819711598], [19, 'earl.parker@example.com', 'earl parker', 2.0417913624921153, 145664.14673350975], [20, 'amparo.marquez@example.com', 'amparo marquez', 1.3689223840058118, 144227.04612075578], [21, 'jasmine.green@example.com', 'jasmine green', 2.083286117637613, 56458.13839809372], [22, 'مریم.کریمی@example.com', 'مریم کریمی', 0.10743646610693633, 189976.0449391255], [23, 'ella.larsen@example.com', 'ella larsen', 0.33953094308205256, 21119.039819352773], [24, 'charlotte.nicolas@example.com', 'charlotte nicolas', 0.29073306383419706, 228983.5545060561], [25, 'marcus.li@example.com', 'marcus li', 2.1250157046259512, 51327.37694837613], [26, 'daniel.poulsen@example.com', 'daniel poulsen', 5.636440685928767, 223519.4882059258], [27, 'مارال.سالاری@example.com', 'مارال سالاری', 4.743758164143607, 73661.34009226254], [28, 'sofia.maudal@example.com', 'sofia maudal', 3.6452704697553173, 220478.7256127773], [29, 'oona.leinonen@example.com', 'oona leinonen', 5.6911588011037, 115381.7676660207], [30, 'fiona.spencer@example.com', 'fiona spencer', 5.454353778116555, 71530.70666417625], [31, 'roswita.huber@example.com', 'roswita huber', 1.9982597524081749, 182298.44902420268], [32, 'benjamin.vincent@example.com', 'benjamin vincent', 8.245786552582889, 133606.8294575055], [33, 'victoria.guerin@example.com', 'victoria guerin', 2.4914277861697935, 178425.5670675947], [34, 'lauren.gardner@example.com', 'lauren gardner', 1.3484119158527117, 64061.354444644174], [35, 'wiebke.krohn@example.com', 'wiebke krohn', 15.158886569078371, 104608.87370296373], [36, 'rebecca.hanson@example.com', 'rebecca hanson', 2.02990934017644, 121883.54483801716], [37, 'sohan.rousseau@example.com', 'sohan rousseau', 3.490329196964215, 102522.77073120984], [38, 'buse.dizdar@example.com', 'buse dizdar', 6.27464917701564, 164826.28069269564], [39, 'tadeusz.gessner@example.com', 'tadeusz gessner', 8.161286498734047, 222564.5372153601], [40, 'ثنا.کریمی@example.com', 'ثنا کریمی', 6.831282524124687, 46790.45003342319], [41, 'ashley.clark@example.com', 'ashley clark', 0.2445891179135398, 54636.82346112181], [42, 'فاطمه.نكونظر@example.com', 'فاطمه نكو نظر', 5.034961484855387, 92506.56615011516], [43, 'yanis.pierre@example.com', 'yanis pierre', 0.5758378883321129, 70714.45070025412], [44, 'neil.steward@example.com', 'neil steward', 7.431511464450446, 82133.89678272836], [45, 'carter.andersen@example.com', 'carter andersen', 7.5794426153512, 236557.3633498326], [46, 'kenneth.andrews@example.com', 'kenneth andrews', 2.677832186874967, 21454.051124344274], [47, 'sophie.green@example.com', 'sophie green', 0.12369451931173106, 109854.23912520298], [48, 'stein.sjølie@example.com', 'stein sjølie', 3.5961873828141995, 4955.223654874752], [49, 'nathan.fitzsimmons@example.com', 'nathan fitzsimmons', 0.11555053141965142, 56003.24067074764], [50, 'آوین.موسوی@example.com', 'آوین موسوی', 3.074302572697934, 283354.4400098998], [51, 'aloís.fernandes@example.com', 'aloís fernandes', 3.6063080154221607, 91826.17381641697], [52, 'ingmar.muijtjens@example.com', 'ingmar muijtjens', 1.5720878792767146, 248118.9298973933], [53, 'peetu.koskinen@example.com', 'peetu koskinen', 1.6573612514871183, 120365.80304873876], [54, 'رضا.احمدی@example.com', 'رضا احمدی', 1.4073957313431043, 405574.89620402874], [55, 'clarissa.hinzmann@example.com', 'clarissa hinzmann', 6.021033924133388, 102115.22515021228], [56, 'abigail.evans@example.com', 'abigail evans', 5.0035251562818575, 40552.10992481413], [57, 'charlie.wood@example.com', 'charlie wood', 3.3893732101206493, 126129.32308062541], [58, 'ahmad.brevig@example.com', 'ahmad brevig', 3.7875197557923435, 102934.2325159315], [59, 'maria.johansen@example.com', 'maria johansen', 12.765399354893034, 10357.87251840085], [60, 'arron.lucas@example.com', 'arron lucas', 2.2491876274416405, 115325.29506456664], [61, 'marguerite.dumont@example.com', 'marguerite dumont', 4.60056889639854, 204243.13643767478], [62, 'matilde.thon@example.com', 'matilde thon', 2.29484800737549, 119592.26730991974], [63, 'olivar.rezende@example.com', 'olivar rezende', 0.7859283402542885, 100218.38518441778], [64, 'steven.edwards@example.com', 'steven edwards', 3.674246425224388, 203538.56199447438], [65, 'بهار.رضاییان@example.com', 'بهار رضاییان', 0.8871902077447689, 91612.7593773139], [66, 'hans-albert.raab@example.com', 'hans-albert raab', 3.1628856635219553, 166045.2285941613], [67, 'önal.ilıcalı@example.com', 'önal ilıcalı', 4.685654362791306, 68205.50120965688], [68, 'carolyn.byrd@example.com', 'carolyn byrd', 0.5740411602339792, 121682.13312950444], [69, 'آدرین.کامروا@example.com', 'آدرین کامروا', 1.4258048614308285, 60925.69583078255], [70, 'leona.olivier@example.com', 'leona olivier', 10.60190944443246, 74983.68307242746], [71, 'ava.smith@example.com', 'ava smith', 0.0892646408479892, 78502.91012857226], [72, 'isabel.lewis@example.com', 'isabel lewis', 3.0050864486912237, 22836.661364967207], [73, 'noemie.lemaire@example.com', 'noemie lemaire', 7.825956284717442, 99493.73791717929], [74, 'gerrieke.stelling@example.com', 'gerrieke stelling', 2.857941174146533, 44547.777013827064], [75, 'rayen.vanlimbeek@example.com', 'rayen van limbeek', 4.936806540561999, 96415.93830153141], [76, 'väinö.ruona@example.com', 'väinö ruona', 3.9949705608905988, 139685.54200538908], [77, 'roy.daniels@example.com', 'roy daniels', 4.41158384360472, 96737.55256445307], [78, 'carol.sales@example.com', 'carol sales', 8.507683422945378, 144166.95457862807], [79, 'amelia.nicolas@example.com', 'amelia nicolas', 2.270345940172264, 20527.059268310437], [80, 'monika.ohnstad@example.com', 'monika ohnstad', 5.3482580398250885, 100186.94880461814], [81, 'آوینا.موسوی@example.com', 'آوینا موسوی', 2.853801246669352, 88805.0316825302], [82, 'becky.lopez@example.com', 'becky lopez', 3.3363128442472973, 73008.96746459066], [83, 'sylvia.krause@example.com', 'sylvia krause', 2.7459494117573904, 16955.84080777289], [84, 'pat.simmons@example.com', 'pat simmons', 1.0826390004019615, 230990.7061521213], [85, 'florence.ennis@example.com', 'florence ennis', 7.774396863441818, 32567.5719112027], [86, 'ottfried.kück@example.com', 'ottfried kück', 3.927073268674709, 123413.09322933556], [87, 'astrid.nielsen@example.com', 'astrid nielsen', 3.1722105720526903, 94592.1814347912], [88, 'leah.white@example.com', 'leah white', 6.550680267511001, 104993.88699146321], [89, 'مانی.کامروا@example.com', 'مانی کامروا', 5.909204948913931, 189475.06613115364], [90, 'fernand.lucas@example.com', 'fernand lucas', 3.0748530575623834, 241236.74980085166], [91, 'sherri.olson@example.com', 'sherri olson', 7.720660400463778, 259317.24692505787], [92, 'tori.konink@example.com', 'tori konink', 4.360423042743088, 98981.42428929442], [93, 'carmelo.vicente@example.com', 'carmelo vicente', 8.037874551944988, 124987.85665889567], [94, 'luciano.gjaltema@example.com', 'luciano gjaltema', 8.566441334117199, 120246.55849512036], [95, 'selma.nielsen@example.com', 'selma nielsen', 3.158788609546157, 60467.14462697257], [96, 'domenico.guillaume@example.com', 'domenico guillaume', 3.365927588948927, 67362.49459684356], [97, 'آریا.یاسمی@example.com', 'آریا یاسمی', 0.5386323921640788, 245804.33832087673], [98, 'joan.ortega@example.com', 'joan ortega', 2.3777520777829415, 69657.99201367148], [99, 'ethan.laurent@example.com', 'ethan laurent', 5.281130121506765, 4832.971560397737], [100, 'wesley.cruz@example.com', 'wesley cruz', 0.03848974774223986, 158785.75680017032]]\n"
          ],
          "name": "stdout"
        }
      ]
    },
    {
      "cell_type": "code",
      "metadata": {
        "id": "Lvt0MpCprHkn",
        "colab_type": "code",
        "outputId": "894853f7-db1a-4a8e-c9ad-25bb0eadcf7c",
        "colab": {
          "base_uri": "https://localhost:8080/",
          "height": 418
        }
      },
      "source": [
        "# 3 Prepare a simulation of transactions between these users\n",
        "# Take random user and pair him/her with another one. Assume a random amount but take real world price. Sum up the transaction printing:\n",
        "# username1 exchanged X.XXX BTC with username2 for PLN YYYYY.YYY PLN. (2p)\n",
        "# Simulate real time - do not proceed all transactions at once. Try to make around 100 transactions per minute (2p)\n",
        "# Simulate user's assets. Creating a user assign random amount of a given currency. Take it into account while performing a transaction.\n",
        "# Remember to amend user's assets after the transaction. (2p)\n",
        "import time\n",
        "import numpy as np\n",
        "\n",
        "\n",
        "\n",
        "def aquarand():\n",
        "  return abs(np.random.randn() * tepo)\n",
        "\n",
        "def bitrand():\n",
        "  return abs(np.random.randn() * 5)\n",
        "\n",
        "def trade(buyer, seller):\n",
        "  #cena = np.random.choice((bid1, ask1))\n",
        "  cena = requests.get(\"https://bitbay.net/API/Public/BTCPLN/ticker.json\").json()['bid']\n",
        "  \n",
        "  ileBit = bitrand()\n",
        "  if ileBit > seller[3]: ileBit = seller[3]\n",
        "  if ileBit > buyer[4] * cena: ilebit = buyer[4] * cena\n",
        "  if ileBit == 0: return\n",
        "  \n",
        "  buyer[3] += ileBit\n",
        "  buyer[4] -= ileBit * cena\n",
        "  seller[3] -= ileBit\n",
        "  seller[4] += ileBit * cena\n",
        "  \n",
        "  print(\"%s exchanged %f BTC with %s for %f PLN\" %(buyer[2], ileBit, buyer[2], ileBit * cena))\n",
        "  return\n",
        "\n",
        "\n",
        "ile = 10\n",
        "tepo = 0.6 #mniej = szybciej\n",
        "\n",
        "for i in range(ile):\n",
        "  rand = (np.random.randint(0,len(RdyData)),np.random.randint(0,len(RdyData)))\n",
        "  while rand[0] == rand[1]:\n",
        "    rand = (rand[0], np.random.randint(0,np.random.randint(0,len(RdyData))))\n",
        "  \n",
        "  usr1 = RdyData[rand[0]]\n",
        "  usr2 = RdyData[rand[1]]\n",
        "  #ileBit = bitrand()\n",
        "  \n",
        "  trade(usr1,usr2)\n",
        "  #time.sleep(aquarand())\n",
        "  time.sleep(1)\n",
        "  \n",
        "  #------------------------------------TRZA DODAC AKTUALIZACJE PORTFELI :-(--------------------------------------"
      ],
      "execution_count": 0,
      "outputs": [
        {
          "output_type": "stream",
          "text": [
            "rayen van limbeek exchanged 0.502877 BTC with rayen van limbeek for 15388.047457 PLN\n",
            "bryan marchand exchanged 2.681770 BTC with bryan marchand for 82062.160932 PLN\n",
            "bryan marchand exchanged 2.162538 BTC with bryan marchand for 66173.661353 PLN\n",
            "carmelo vicente exchanged 2.082551 BTC with carmelo vicente for 63726.063245 PLN\n",
            "fiona spencer exchanged 2.499999 BTC with fiona spencer for 76499.961631 PLN\n",
            "مانی کامروا exchanged 0.089265 BTC with مانی کامروا for 2731.498010 PLN\n",
            "corina fontai exchanged 3.844702 BTC with corina fontai for 117647.866536 PLN\n",
            "carter andersen exchanged 2.879204 BTC with carter andersen for 88103.638721 PLN\n",
            "clarissa hinzmann exchanged 4.000961 BTC with clarissa hinzmann for 122429.415968 PLN\n",
            "edith fields exchanged 6.658589 BTC with edith fields for 203752.833563 PLN\n",
            "wiebke krohn exchanged 10.737214 BTC with wiebke krohn for 328558.758766 PLN\n",
            "rebecca hanson exchanged 3.787520 BTC with rebecca hanson for 115769.139480 PLN\n",
            "lauren gardner exchanged 0.163866 BTC with lauren gardner for 5008.710020 PLN\n"
          ],
          "name": "stdout"
        },
        {
          "output_type": "error",
          "ename": "KeyboardInterrupt",
          "evalue": "ignored",
          "traceback": [
            "\u001b[0;31m---------------------------------------------------------------------------\u001b[0m",
            "\u001b[0;31mKeyboardInterrupt\u001b[0m                         Traceback (most recent call last)",
            "\u001b[0;32m<ipython-input-77-40a022df8bd9>\u001b[0m in \u001b[0;36m<module>\u001b[0;34m()\u001b[0m\n\u001b[1;32m     42\u001b[0m   \u001b[0mtrade\u001b[0m\u001b[0;34m(\u001b[0m\u001b[0musr1\u001b[0m\u001b[0;34m,\u001b[0m\u001b[0musr2\u001b[0m\u001b[0;34m)\u001b[0m\u001b[0;34m\u001b[0m\u001b[0;34m\u001b[0m\u001b[0m\n\u001b[1;32m     43\u001b[0m   \u001b[0;31m#time.sleep(aquarand())\u001b[0m\u001b[0;34m\u001b[0m\u001b[0;34m\u001b[0m\u001b[0;34m\u001b[0m\u001b[0m\n\u001b[0;32m---> 44\u001b[0;31m   \u001b[0mtime\u001b[0m\u001b[0;34m.\u001b[0m\u001b[0msleep\u001b[0m\u001b[0;34m(\u001b[0m\u001b[0;36m1\u001b[0m\u001b[0;34m)\u001b[0m\u001b[0;34m\u001b[0m\u001b[0;34m\u001b[0m\u001b[0m\n\u001b[0m",
            "\u001b[0;31mKeyboardInterrupt\u001b[0m: "
          ]
        }
      ]
    }
  ]
}