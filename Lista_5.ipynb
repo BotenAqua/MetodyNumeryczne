{
  "nbformat": 4,
  "nbformat_minor": 0,
  "metadata": {
    "colab": {
      "name": "Lista 5",
      "version": "0.3.2",
      "provenance": [],
      "collapsed_sections": [],
      "include_colab_link": true
    },
    "kernelspec": {
      "name": "python3",
      "display_name": "Python 3"
    }
  },
  "cells": [
    {
      "cell_type": "markdown",
      "metadata": {
        "id": "view-in-github",
        "colab_type": "text"
      },
      "source": [
        "<a href=\"https://colab.research.google.com/github/BotenAqua/MetodyNumeryczne/blob/master/Lista_5.ipynb\" target=\"_parent\"><img src=\"https://colab.research.google.com/assets/colab-badge.svg\" alt=\"Open In Colab\"/></a>"
      ]
    },
    {
      "cell_type": "code",
      "metadata": {
        "id": "eHCES2FJjTe6",
        "colab_type": "code",
        "colab": {
          "base_uri": "https://localhost:8080/",
          "height": 35
        },
        "outputId": "ab63c4fb-3c7e-4011-ae64-97b204d9a634"
      },
      "source": [
        "\n",
        "\n",
        "# fetch data from  API\n",
        "\n",
        "\n"
      ],
      "execution_count": 5,
      "outputs": [
        {
          "output_type": "stream",
          "text": [
            "bid: 30519.97 ask: 30520\n"
          ],
          "name": "stdout"
        }
      ]
    },
    {
      "cell_type": "code",
      "metadata": {
        "id": "Ke1GsGUAlR4J",
        "colab_type": "code",
        "colab": {
          "base_uri": "https://localhost:8080/",
          "height": 72
        },
        "outputId": "dc0e917d-c428-4f02-f1cc-908ad02c5ee4"
      },
      "source": [
        "#TASKS (11p)\n",
        "#To use the requests library you have to install it first. If you have pip and you're using python3 interpreter in your project\n",
        "# then simply pip3 install requests\n",
        "\n",
        "# 1 Find another public API with cryptocurrency and compare prices. As an output print:\n",
        "# \"Currently the XXX exchange market is better for buying whilst YYY is better for selling\" (3p)\n",
        "import requests\n",
        "\n",
        "KursCebuliona = 3.83273926\n",
        "\n",
        "response = requests.get(\"https://bitbay.net/API/Public/BTCPLN/ticker.json\")\n",
        "data = response.json()\n",
        "bid1=data['bid']\n",
        "ask1=data['ask']\n",
        "print('bid:',bid1,'ask:',ask1)\n",
        "\n",
        "response2 = requests.get(\"https://www.bitstamp.net/api/ticker/\")\n",
        "data = response2.json()\n",
        "bid2=float(data['bid'])\n",
        "ask2=float(data['ask'])\n",
        "print('bid:',bid2 * KursCebuliona,'ask:',ask2 * KursCebuliona)\n",
        "\n",
        "if bid1 >= bid2:    #bid - kwota ktora ktos jest w stanie dac\n",
        "  BestBidMarket = \"bitbay.net\"\n",
        "else:\n",
        "  BestBidMarket = \"bitstamp.net\"\n",
        "\n",
        "if ask1 <= ask2:\n",
        "  BestAskMarket = \"bitbay.net\"\n",
        "else:\n",
        "  BestAskMarket = \"bitstamp.net\"\n",
        "\n",
        "print(\"Currently the \", BestAskMarket, \" exchange market is better for buying whilst \", BestBidMarket, \" is better for selling\")\n",
        "\n"
      ],
      "execution_count": 18,
      "outputs": [
        {
          "output_type": "stream",
          "text": [
            "bid: 30333.08 ask: 30470.98\n",
            "bid: 30106.320196870398 ask: 30145.6057742854\n",
            "Currently the  bitbay.net  exchange market is better for buying whilst  bitbay.net  is better for selling\n"
          ],
          "name": "stdout"
        }
      ]
    },
    {
      "cell_type": "code",
      "metadata": {
        "id": "SxMsWAolq9fk",
        "colab_type": "code",
        "colab": {}
      },
      "source": [
        "# 2 Use https://randomuser.me API to download a random user data.\n",
        "# Create and store 100 random users with ids, username, name (first + last name) using this API (2p)\n",
        "\n",
        "\n",
        "\n",
        "response = requests.get(\"https://randomuser.me/api/?results=100\")\n",
        "rawdata = response.json()"
      ],
      "execution_count": 0,
      "outputs": []
    },
    {
      "cell_type": "code",
      "metadata": {
        "id": "LVe7ux8eMJ7n",
        "colab_type": "code",
        "colab": {
          "base_uri": "https://localhost:8080/",
          "height": 35
        },
        "outputId": "ebf85752-3234-4062-f7e4-f1beb06c827b"
      },
      "source": [
        "rawdatas = str(rawdata)\n"
      ],
      "execution_count": 32,
      "outputs": [
        {
          "output_type": "stream",
          "text": [
            "s\n"
          ],
          "name": "stdout"
        }
      ]
    },
    {
      "cell_type": "code",
      "metadata": {
        "id": "Lvt0MpCprHkn",
        "colab_type": "code",
        "colab": {}
      },
      "source": [
        "# 3 Prepare a simulation of transactions between these users\n",
        "# Take random user and pair him/her with another one. Assume a random amount but take real world price. Sum up the transaction printing:\n",
        "# username1 exchanged X.XXX BTC with username2 for PLN YYYYY.YYY PLN. (2p)\n",
        "# Simulate real time - do not proceed all transactions at once. Try to make around 100 transactions per minute (2p)\n",
        "# Simulate user's assets. Creating a user assign random amount of a given currency. Take it into account while performing a transaction.\n",
        "# Remember to amend user's assets after the transaction. (2p)"
      ],
      "execution_count": 0,
      "outputs": []
    }
  ]
}